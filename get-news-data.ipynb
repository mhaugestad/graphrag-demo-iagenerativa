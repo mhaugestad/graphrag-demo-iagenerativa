{
 "cells": [
  {
   "cell_type": "code",
   "execution_count": 8,
   "metadata": {},
   "outputs": [],
   "source": [
    "from fundus import PublisherCollection, Crawler\n",
    "import os"
   ]
  },
  {
   "cell_type": "code",
   "execution_count": 3,
   "metadata": {},
   "outputs": [],
   "source": [
    "crawler = Crawler(PublisherCollection.es)"
   ]
  },
  {
   "cell_type": "code",
   "execution_count": 4,
   "metadata": {},
   "outputs": [
    {
     "name": "stderr",
     "output_type": "stream",
     "text": [
      "encoding error : input conversion failed due to input error, bytes 0x21 0x00 0x00 0x00\n",
      "encoding error : input conversion failed due to input error, bytes 0x44 0x00 0x00 0x00\n",
      "I/O error : encoder error\n",
      "encoding error : input conversion failed due to input error, bytes 0x21 0x00 0x00 0x00\n",
      "encoding error : input conversion failed due to input error, bytes 0x44 0x00 0x00 0x00\n",
      "I/O error : encoder error\n",
      "encoding error : input conversion failed due to input error, bytes 0x21 0x00 0x00 0x00\n",
      "encoding error : input conversion failed due to input error, bytes 0x44 0x00 0x00 0x00\n",
      "I/O error : encoder error\n",
      "encoding error : input conversion failed due to input error, bytes 0x21 0x00 0x00 0x00\n",
      "encoding error : input conversion failed due to input error, bytes 0x44 0x00 0x00 0x00\n",
      "I/O error : encoder error\n"
     ]
    }
   ],
   "source": [
    "articles = []\n",
    "for article in crawler.crawl(max_articles=200):\n",
    "    articles.append(\n",
    "        article.to_json()\n",
    "    )"
   ]
  },
  {
   "cell_type": "code",
   "execution_count": 5,
   "metadata": {},
   "outputs": [],
   "source": [
    "def concatenate_article(data):\n",
    "    # Initialize an empty string for the article\n",
    "    article = \"\"\n",
    "\n",
    "    # Concatenate the summary\n",
    "    article += \"\\n\".join(data.get('summary', [])) + \"\\n\\n\"\n",
    "\n",
    "    # Concatenate each section's headlines and paragraphs\n",
    "    for section in data.get('sections', []):\n",
    "        # Append each headline, if present\n",
    "        article += \"\\n\".join(section.get('headline', [])) + \"\\n\"\n",
    "        # Append each paragraph, separated by newlines\n",
    "        article += \"\\n\".join(section.get('paragraphs', [])) + \"\\n\\n\"\n",
    "    return article.strip()"
   ]
  },
  {
   "cell_type": "code",
   "execution_count": 6,
   "metadata": {},
   "outputs": [],
   "source": [
    "article_template = \"\"\"\\\n",
    "title: {headline}\n",
    "body: {body}\n",
    "\"\"\""
   ]
  },
  {
   "cell_type": "code",
   "execution_count": 9,
   "metadata": {},
   "outputs": [],
   "source": [
    "os.makedirs('./data', exist_ok=True)"
   ]
  },
  {
   "cell_type": "code",
   "execution_count": 10,
   "metadata": {},
   "outputs": [],
   "source": [
    "for idx, article in enumerate(articles, start=1):\n",
    "    body = concatenate_article(article.get('body'))\n",
    "    title = article.get('title', '')\n",
    "    with open('./data/es{}.txt'.format(idx), 'w') as f:\n",
    "        f.write(article_template.format(headline=title, body=body))"
   ]
  }
 ],
 "metadata": {
  "kernelspec": {
   "display_name": "graphrag",
   "language": "python",
   "name": "python3"
  },
  "language_info": {
   "codemirror_mode": {
    "name": "ipython",
    "version": 3
   },
   "file_extension": ".py",
   "mimetype": "text/x-python",
   "name": "python",
   "nbconvert_exporter": "python",
   "pygments_lexer": "ipython3",
   "version": "3.12.4"
  }
 },
 "nbformat": 4,
 "nbformat_minor": 2
}
