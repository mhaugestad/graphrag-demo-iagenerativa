{
 "cells": [
  {
   "cell_type": "code",
   "execution_count": 2,
   "metadata": {},
   "outputs": [
    {
     "data": {
      "text/plain": [
       "True"
      ]
     },
     "execution_count": 2,
     "metadata": {},
     "output_type": "execute_result"
    }
   ],
   "source": [
    "from qdrant_client import QdrantClient\n",
    "from qdrant_client.models import VectorParams, Distance, PointStruct\n",
    "from langchain_text_splitters import RecursiveCharacterTextSplitter\n",
    "from langchain_openai import OpenAIEmbeddings\n",
    "from dotenv import load_dotenv\n",
    "import uuid\n",
    "import os\n",
    "load_dotenv()"
   ]
  },
  {
   "cell_type": "code",
   "execution_count": 3,
   "metadata": {},
   "outputs": [],
   "source": [
    "client = QdrantClient(url=os.environ['QDRANT_API_URL'], api_key=os.environ['QDRANT_API_KEY'])"
   ]
  },
  {
   "cell_type": "code",
   "execution_count": 4,
   "metadata": {},
   "outputs": [
    {
     "data": {
      "text/plain": [
       "True"
      ]
     },
     "execution_count": 4,
     "metadata": {},
     "output_type": "execute_result"
    }
   ],
   "source": [
    "client.create_collection(\n",
    "      collection_name=\"graphrag-test\",\n",
    "      vectors_config=VectorParams(size=1536, distance=Distance.COSINE),\n",
    ")"
   ]
  },
  {
   "cell_type": "code",
   "execution_count": 5,
   "metadata": {},
   "outputs": [],
   "source": [
    "text_splitter = RecursiveCharacterTextSplitter(\n",
    "    chunk_size=1000,\n",
    "    chunk_overlap=100,\n",
    "    length_function=len,\n",
    "    is_separator_regex=False,\n",
    "    separators=[\"\\n\\n\", \"\\n\"]\n",
    "    )"
   ]
  },
  {
   "cell_type": "code",
   "execution_count": 6,
   "metadata": {},
   "outputs": [],
   "source": [
    "embeddings_model = OpenAIEmbeddings(api_key=os.environ['GRAPHRAG_API_KEY'])"
   ]
  },
  {
   "cell_type": "code",
   "execution_count": 7,
   "metadata": {},
   "outputs": [],
   "source": [
    "for file in os.listdir('./data/'):\n",
    "\n",
    "    with open(f'./data/{file}', 'r') as f:\n",
    "        text = f.read()\n",
    "\n",
    "    chunks = text_splitter.split_text(text)\n",
    "    embeddings = embeddings_model.embed_documents(chunks)\n",
    "\n",
    "    client.upsert(\n",
    "        collection_name=\"graphrag-test\",\n",
    "        points=[\n",
    "        PointStruct(\n",
    "            id= uuid.uuid1().hex,\n",
    "            vector=vector,\n",
    "            payload={\"doc\": doc}\n",
    "            ) for doc, vector in zip(chunks, embeddings)]\n",
    "        )"
   ]
  },
  {
   "cell_type": "markdown",
   "metadata": {},
   "source": [
    "## Upload some query vectors"
   ]
  },
  {
   "cell_type": "code",
   "execution_count": 8,
   "metadata": {},
   "outputs": [],
   "source": [
    "queries = [\n",
    "    \"Que paso en las elecciones de 2024\",\n",
    "    \"Quien es Kamala Harris?\",\n",
    "    \"Que paso en Valencia?\",\n",
    "    \"Cuales son las noticias mas importantes de hoy?\",\n",
    "    \"Que paso hoy en el mundo?\"\n",
    "]"
   ]
  },
  {
   "cell_type": "code",
   "execution_count": 9,
   "metadata": {},
   "outputs": [
    {
     "data": {
      "text/plain": [
       "UpdateResult(operation_id=200, status=<UpdateStatus.COMPLETED: 'completed'>)"
      ]
     },
     "execution_count": 9,
     "metadata": {},
     "output_type": "execute_result"
    }
   ],
   "source": [
    "_id = 1\n",
    "embeddings = embeddings_model.embed_documents(queries)\n",
    "indices = range(_id, _id + len(queries))\n",
    "\n",
    "client.upsert(\n",
    "        collection_name=\"graphrag-test\",\n",
    "        points=[\n",
    "        PointStruct(\n",
    "            id=idx,\n",
    "            vector=vector,\n",
    "            payload={\"doc\": doc}\n",
    "            ) for idx, doc, vector in zip(indices, queries, embeddings)]\n",
    "        )"
   ]
  }
 ],
 "metadata": {
  "kernelspec": {
   "display_name": "graphrag",
   "language": "python",
   "name": "python3"
  },
  "language_info": {
   "codemirror_mode": {
    "name": "ipython",
    "version": 3
   },
   "file_extension": ".py",
   "mimetype": "text/x-python",
   "name": "python",
   "nbconvert_exporter": "python",
   "pygments_lexer": "ipython3",
   "version": "3.12.4"
  }
 },
 "nbformat": 4,
 "nbformat_minor": 2
}
